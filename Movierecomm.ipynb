{
  "cells": [
    {
      "cell_type": "markdown",
      "metadata": {
        "id": "view-in-github",
        "colab_type": "text"
      },
      "source": [
        "<a href=\"https://colab.research.google.com/github/Mp-Pro/Movie-recommendation/blob/main/Movierecomm.ipynb\" target=\"_parent\"><img src=\"https://colab.research.google.com/assets/colab-badge.svg\" alt=\"Open In Colab\"/></a>"
      ]
    },
    {
      "cell_type": "markdown",
      "metadata": {
        "id": "WM8_rbAcKse4"
      },
      "source": [
        "CONTENT BASED RECOMMENDATION -- cosine similarity"
      ]
    },
    {
      "cell_type": "markdown",
      "metadata": {
        "id": "6Rl2fAwoQNgw"
      },
      "source": [
        "# Cleaning and filtering the datasets"
      ]
    },
    {
      "cell_type": "code",
      "execution_count": 1,
      "metadata": {
        "id": "32F6aOB6m1Bc"
      },
      "outputs": [],
      "source": [
        "# import tensorflow as tf\n",
        "# tf.test.gpu_device_name()"
      ]
    },
    {
      "cell_type": "code",
      "execution_count": 2,
      "metadata": {
        "id": "zofptcooivEl"
      },
      "outputs": [],
      "source": [
        "# import pandas as pd\n",
        "# credits = pd.read_csv(\"/content/drive/MyDrive/Colab Notebooks/Movie Recommendation System/datasets/credits.csv\")\n",
        "# links = pd.read_csv(\"/content/drive/MyDrive/Colab Notebooks/Movie Recommendation System/datasets/links.csv\")\n",
        "# movies_metadata = pd.read_csv(\"/content/drive/MyDrive/Colab Notebooks/Movie Recommendation System/datasets/movies_metadata.csv\", low_memory=False)\n",
        "# ratings = pd.read_csv(\"/content/drive/MyDrive/Colab Notebooks/Movie Recommendation System/datasets/ratings.csv\")\n",
        "# keywords = pd.read_csv(\"/content/drive/MyDrive/Colab Notebooks/Movie Recommendation System/datasets/keywords.csv\")"
      ]
    },
    {
      "cell_type": "code",
      "execution_count": 3,
      "metadata": {
        "id": "LKtUuaRQjbDl"
      },
      "outputs": [],
      "source": [
        "# movies_metadata.drop(['budget','original_language','video','runtime','status','video','production_countries','release_date','revenue','spoken_languages'],axis = 1,inplace=True)"
      ]
    },
    {
      "cell_type": "code",
      "execution_count": 4,
      "metadata": {
        "id": "PAc7z2_rj8kf"
      },
      "outputs": [],
      "source": [
        "# movies_metadata.head()"
      ]
    },
    {
      "cell_type": "code",
      "execution_count": 5,
      "metadata": {
        "id": "08SI7l1-kDzM"
      },
      "outputs": [],
      "source": [
        "# ratings.drop(['timestamp'],axis=1,inplace=True)"
      ]
    },
    {
      "cell_type": "code",
      "execution_count": 6,
      "metadata": {
        "id": "r-V6uVsyYa7C"
      },
      "outputs": [],
      "source": [
        "# ratings.rename(columns = {'movieId':'id'},inplace=True)"
      ]
    },
    {
      "cell_type": "code",
      "execution_count": 7,
      "metadata": {
        "id": "TLxvc9RdUrzx"
      },
      "outputs": [],
      "source": [
        "# keywords['id'].dtype"
      ]
    },
    {
      "cell_type": "code",
      "execution_count": 8,
      "metadata": {
        "id": "3RryKd_SXa_v"
      },
      "outputs": [],
      "source": [
        "# credits = credits.astype({'id':'str'})\n",
        "# movies_metadata = movies_metadata.astype({'id':'str'})\n",
        "# ratings['id'] = ratings['id'].astype('str')\n",
        "# keywords['id'] = keywords['id'].astype('str')"
      ]
    },
    {
      "cell_type": "code",
      "execution_count": 9,
      "metadata": {
        "id": "4SLiTyWZbn5G"
      },
      "outputs": [],
      "source": [
        "# merged_data = movies_metadata.merge(credits,on='id')"
      ]
    },
    {
      "cell_type": "code",
      "execution_count": 10,
      "metadata": {
        "id": "kvEULyNhWVO5"
      },
      "outputs": [],
      "source": [
        "# print(merged_data.shape)"
      ]
    },
    {
      "cell_type": "code",
      "execution_count": 11,
      "metadata": {
        "id": "81gh10Hjecpi"
      },
      "outputs": [],
      "source": [
        "# print(merged_data['id'].dtype)\n",
        "# print(ratings['id'].dtype)"
      ]
    },
    {
      "cell_type": "code",
      "execution_count": 12,
      "metadata": {
        "id": "9c0TbMcOXz_0"
      },
      "outputs": [],
      "source": [
        "# merged_data = merged_data.merge(ratings,on='id')"
      ]
    },
    {
      "cell_type": "code",
      "execution_count": 13,
      "metadata": {
        "id": "uqasNXVuVNpB"
      },
      "outputs": [],
      "source": [
        "# merged_data = merged_data.merge(keywords,on='id')\n",
        "# print(merged_data['keywords'])"
      ]
    },
    {
      "cell_type": "code",
      "execution_count": 14,
      "metadata": {
        "id": "RuIsFJRce4u9"
      },
      "outputs": [],
      "source": [
        "# print(credits.shape)\n",
        "# print(ratings.shape)\n",
        "# print(movies_metadata.shape)\n",
        "# print(keywords.shape)\n",
        "# print(merged_data.shape)"
      ]
    },
    {
      "cell_type": "code",
      "execution_count": 15,
      "metadata": {
        "id": "2n9scUrzCE3S"
      },
      "outputs": [],
      "source": [
        "# merged_data"
      ]
    },
    {
      "cell_type": "code",
      "execution_count": 16,
      "metadata": {
        "id": "M4pAxNyKCkXW"
      },
      "outputs": [],
      "source": [
        "# merged_data.drop_duplicates(subset=['id']).shape"
      ]
    },
    {
      "cell_type": "code",
      "execution_count": 17,
      "metadata": {
        "id": "4ajsiNmYC1Pv"
      },
      "outputs": [],
      "source": [
        "# movies_metadata.drop_duplicates(subset=['id'],inplace=True)"
      ]
    },
    {
      "cell_type": "code",
      "execution_count": 18,
      "metadata": {
        "id": "5ObnLZ-zC63f"
      },
      "outputs": [],
      "source": [
        "# ratings.drop_duplicates(subset=['id'],inplace=True)"
      ]
    },
    {
      "cell_type": "code",
      "execution_count": 19,
      "metadata": {
        "id": "DTYDljXnDABG"
      },
      "outputs": [],
      "source": [
        "# keywords.drop_duplicates(subset=['id'],inplace=True)"
      ]
    },
    {
      "cell_type": "code",
      "execution_count": 20,
      "metadata": {
        "id": "Vv3sqwnXDDdV"
      },
      "outputs": [],
      "source": [
        "# credits.drop_duplicates(subset=['id'],inplace=True)"
      ]
    },
    {
      "cell_type": "code",
      "execution_count": 21,
      "metadata": {
        "id": "IjqhCa1HEtuA"
      },
      "outputs": [],
      "source": [
        "# merged_data = pd.merge(movies_metadata,keywords,on='id')"
      ]
    },
    {
      "cell_type": "code",
      "execution_count": 22,
      "metadata": {
        "id": "0IwrMw1eFSME"
      },
      "outputs": [],
      "source": [
        "# merged_data = pd.merge(merged_data,credits,on='id')"
      ]
    },
    {
      "cell_type": "code",
      "execution_count": 23,
      "metadata": {
        "id": "gWs2CcnKGVpV"
      },
      "outputs": [],
      "source": [
        "# merged_data.shape"
      ]
    },
    {
      "cell_type": "code",
      "execution_count": 24,
      "metadata": {
        "id": "p-iqtvH7k75h"
      },
      "outputs": [],
      "source": [
        "# merged_data.isnull().sum()"
      ]
    },
    {
      "cell_type": "code",
      "execution_count": 25,
      "metadata": {
        "id": "eDKjTv9ymPyY"
      },
      "outputs": [],
      "source": [
        "# merged_data.drop(['belongs_to_collection','homepage','tagline','original_language','release_date','revenue','runtime','spoken_languages','status'],axis=1,inplace=True)"
      ]
    },
    {
      "cell_type": "code",
      "execution_count": 26,
      "metadata": {
        "id": "xV0JlefPPpsZ"
      },
      "outputs": [],
      "source": [
        "# merged_data.isnull().sum()"
      ]
    },
    {
      "cell_type": "code",
      "execution_count": 27,
      "metadata": {
        "id": "I7BlOoanPslb"
      },
      "outputs": [],
      "source": [
        "# merged_data.drop(['production_countries','video','adult','budget'],axis=1,inplace=True)"
      ]
    },
    {
      "cell_type": "code",
      "execution_count": 28,
      "metadata": {
        "id": "SkZ_4xwAP_7-"
      },
      "outputs": [],
      "source": [
        "# merged_data.dropna(inplace=True)"
      ]
    },
    {
      "cell_type": "code",
      "execution_count": 29,
      "metadata": {
        "id": "iweWLIAlQE9S"
      },
      "outputs": [],
      "source": [
        "# merged_data.isnull().sum()"
      ]
    },
    {
      "cell_type": "code",
      "execution_count": 30,
      "metadata": {
        "id": "XrLpFzA2QQGo"
      },
      "outputs": [],
      "source": [
        "# merged_data.shape"
      ]
    },
    {
      "cell_type": "code",
      "execution_count": 31,
      "metadata": {
        "id": "qSl2FkIhAp3x"
      },
      "outputs": [],
      "source": [
        "# merged_data"
      ]
    },
    {
      "cell_type": "code",
      "execution_count": 32,
      "metadata": {
        "id": "Nzui1myg7f2I"
      },
      "outputs": [],
      "source": [
        "# merged_data.drop_duplicates(subset=['id'],inplace = True)"
      ]
    },
    {
      "cell_type": "code",
      "execution_count": 33,
      "metadata": {
        "id": "dMcTrJud-8wi"
      },
      "outputs": [],
      "source": [
        "# merged_data.shape"
      ]
    },
    {
      "cell_type": "code",
      "execution_count": 34,
      "metadata": {
        "id": "glr-Y6gt6kBq"
      },
      "outputs": [],
      "source": [
        "# merged_data.to_csv('merged_file.csv')\n",
        "# from google.colab import files\n",
        "# files.download(\"merged_file.csv\")"
      ]
    },
    {
      "cell_type": "code",
      "execution_count": 35,
      "metadata": {
        "id": "eIbs284yx0n4"
      },
      "outputs": [],
      "source": [
        "# merged_data.shape"
      ]
    },
    {
      "cell_type": "code",
      "execution_count": 36,
      "metadata": {
        "id": "1rB5vK8CQtAI"
      },
      "outputs": [],
      "source": [
        "# [{'id': 16, 'name': 'Animation'}, {'id': 35, 'name': 'Comedy'}, {'id': 10751, 'name': 'Family'}]\n",
        "\n",
        "# to ['Animation','Comedy','Family']"
      ]
    },
    {
      "cell_type": "markdown",
      "metadata": {
        "id": "ajFow8dLO_LW"
      },
      "source": [
        "# Working on the Merged Csv"
      ]
    },
    {
      "cell_type": "code",
      "execution_count": 37,
      "metadata": {
        "colab": {
          "base_uri": "https://localhost:8080/",
          "height": 35
        },
        "id": "TAI6LGwQRbVP",
        "outputId": "fd038b48-80ac-4aaf-dbc8-ee129d565fbb"
      },
      "outputs": [
        {
          "output_type": "execute_result",
          "data": {
            "text/plain": [
              "''"
            ],
            "application/vnd.google.colaboratory.intrinsic+json": {
              "type": "string"
            }
          },
          "metadata": {},
          "execution_count": 37
        }
      ],
      "source": [
        "import tensorflow as tf\n",
        "tf.test.gpu_device_name()"
      ]
    },
    {
      "cell_type": "code",
      "execution_count": 38,
      "metadata": {
        "id": "6q0go2jLPEi5"
      },
      "outputs": [],
      "source": [
        "import pandas as pd\n",
        "merged_data = pd.read_csv('/content/drive/MyDrive/Colab Notebooks/Movie Recommendation System/datasets/merged_file.csv')"
      ]
    },
    {
      "cell_type": "code",
      "execution_count": 39,
      "metadata": {
        "id": "44Ut7qwNRXrZ"
      },
      "outputs": [],
      "source": [
        "# convert the string of list into lists\n",
        "import ast\n",
        "# ast.literal_eval()"
      ]
    },
    {
      "cell_type": "code",
      "execution_count": 40,
      "metadata": {
        "id": "6Daak1f4RA_I"
      },
      "outputs": [],
      "source": [
        "def convert(obj):\n",
        "  L = []\n",
        "  for i in ast.literal_eval(obj):\n",
        "    L.append(i['name'])\n",
        "  return L"
      ]
    },
    {
      "cell_type": "code",
      "execution_count": 41,
      "metadata": {
        "id": "DKMBMnUYRycS"
      },
      "outputs": [],
      "source": [
        "merged_data['genres'] = merged_data['genres'].apply(convert)"
      ]
    },
    {
      "cell_type": "code",
      "execution_count": 42,
      "metadata": {
        "id": "oRimpI_xR3pH"
      },
      "outputs": [],
      "source": [
        "merged_data['keywords'] = merged_data['keywords'].apply(convert)"
      ]
    },
    {
      "cell_type": "code",
      "execution_count": 43,
      "metadata": {
        "id": "iCA0F2oMaQlJ"
      },
      "outputs": [],
      "source": [
        "def convert3(obj):\n",
        "  L = []\n",
        "  ctr = 0\n",
        "  for i in ast.literal_eval(obj):\n",
        "    if ctr==3:\n",
        "      break\n",
        "    L.append(i['name'])\n",
        "    ctr+=1\n",
        "  return L"
      ]
    },
    {
      "cell_type": "code",
      "execution_count": 44,
      "metadata": {
        "id": "YZZDjnIrbB9p"
      },
      "outputs": [],
      "source": [
        "merged_data['cast'] = merged_data['cast'].apply(convert3)"
      ]
    },
    {
      "cell_type": "code",
      "execution_count": 45,
      "metadata": {
        "id": "JAnLWsa0bSMH"
      },
      "outputs": [],
      "source": [
        "def fetch_director(obj):\n",
        "  L = []\n",
        "  for i in ast.literal_eval(obj):\n",
        "    if i['job'] == 'Director' :\n",
        "      L.append(i['name'])\n",
        "      break\n",
        "  return L"
      ]
    },
    {
      "cell_type": "code",
      "execution_count": 46,
      "metadata": {
        "id": "rnX-07uhbx5i"
      },
      "outputs": [],
      "source": [
        "merged_data['crew'] = merged_data['crew'].apply(fetch_director)"
      ]
    },
    {
      "cell_type": "code",
      "source": [
        "merged_data['crew']"
      ],
      "metadata": {
        "colab": {
          "base_uri": "https://localhost:8080/"
        },
        "id": "lVvYaiYyIJ_P",
        "outputId": "7c13a5c2-2566-4301-b9fd-d7edc7668d78"
      },
      "execution_count": 47,
      "outputs": [
        {
          "output_type": "execute_result",
          "data": {
            "text/plain": [
              "0           [John Lasseter]\n",
              "1            [Joe Johnston]\n",
              "2           [Howard Deutch]\n",
              "3         [Forest Whitaker]\n",
              "4           [Charles Shyer]\n",
              "                ...        \n",
              "44116    [Hamid Nematollah]\n",
              "44117            [Lav Diaz]\n",
              "44118      [Mark L. Lester]\n",
              "44119    [Yakov Protazanov]\n",
              "44120       [Daisy Asquith]\n",
              "Name: crew, Length: 44121, dtype: object"
            ]
          },
          "metadata": {},
          "execution_count": 47
        }
      ]
    },
    {
      "cell_type": "code",
      "execution_count": 48,
      "metadata": {
        "id": "Y-LHPdZbbx2E"
      },
      "outputs": [],
      "source": [
        "# merged_data['overview'] = merged_data['overview'].apply(lambda x:x.split())"
      ]
    },
    {
      "cell_type": "code",
      "execution_count": 49,
      "metadata": {
        "id": "-dE9uQuTcJh4"
      },
      "outputs": [],
      "source": [
        "merged_data['genres'] = merged_data['genres'].apply(lambda x:[i.replace(\" \",\"\") for i in x])\n",
        "merged_data['keywords'] = merged_data['keywords'].apply(lambda x:[i.replace(\" \",\"\") for i in x])\n",
        "merged_data['cast'] = merged_data['cast'].apply(lambda x:[i.replace(\" \",\"\") for i in x])\n",
        "merged_data['crew'] = merged_data['crew'].apply(lambda x:[i.replace(\" \",\"\") for i in x])"
      ]
    },
    {
      "cell_type": "code",
      "execution_count": 50,
      "metadata": {
        "id": "PKT0bwOZdSUW"
      },
      "outputs": [],
      "source": [
        "# merged_data['tags'] = merged_data['overview'] + merged_data['genres'] + merged_data['cast'] + merged_data['crew']"
      ]
    },
    {
      "cell_type": "code",
      "source": [
        "merged_data['tags'] = merged_data['genres'] + merged_data['cast'] + merged_data['crew']"
      ],
      "metadata": {
        "id": "z2Jgq1y4IsKb"
      },
      "execution_count": 51,
      "outputs": []
    },
    {
      "cell_type": "code",
      "execution_count": 52,
      "metadata": {
        "colab": {
          "base_uri": "https://localhost:8080/",
          "height": 424
        },
        "id": "w_OgSov7esOD",
        "outputId": "9fc312db-a608-4eb9-c11f-f9a9004c0eba"
      },
      "outputs": [
        {
          "output_type": "execute_result",
          "data": {
            "text/plain": [
              "           id                        title  \\\n",
              "0         862                    Toy Story   \n",
              "1        8844                      Jumanji   \n",
              "2       15602             Grumpier Old Men   \n",
              "3       31357            Waiting to Exhale   \n",
              "4       11862  Father of the Bride Part II   \n",
              "...       ...                          ...   \n",
              "44116  439050                       Subdue   \n",
              "44117  111109          Century of Birthing   \n",
              "44118   67758                     Betrayal   \n",
              "44119  227506             Satan Triumphant   \n",
              "44120  461257                     Queerama   \n",
              "\n",
              "                                                    tags  \n",
              "0      [Animation, Comedy, Family, TomHanks, TimAllen...  \n",
              "1      [Adventure, Fantasy, Family, RobinWilliams, Jo...  \n",
              "2      [Romance, Comedy, WalterMatthau, JackLemmon, A...  \n",
              "3      [Comedy, Drama, Romance, WhitneyHouston, Angel...  \n",
              "4      [Comedy, SteveMartin, DianeKeaton, MartinShort...  \n",
              "...                                                  ...  \n",
              "44116  [Drama, Family, LeilaHatami, KouroshTahami, El...  \n",
              "44117  [Drama, AngelAquino, PerryDizon, HazelOrencio,...  \n",
              "44118  [Action, Drama, Thriller, ErikaEleniak, AdamBa...  \n",
              "44119  [IwanMosschuchin, NathalieLissenko, PavelPavlo...  \n",
              "44120                                     [DaisyAsquith]  \n",
              "\n",
              "[44121 rows x 3 columns]"
            ],
            "text/html": [
              "\n",
              "  <div id=\"df-8b74e8b0-dad3-40f1-adcc-4a434c37be35\">\n",
              "    <div class=\"colab-df-container\">\n",
              "      <div>\n",
              "<style scoped>\n",
              "    .dataframe tbody tr th:only-of-type {\n",
              "        vertical-align: middle;\n",
              "    }\n",
              "\n",
              "    .dataframe tbody tr th {\n",
              "        vertical-align: top;\n",
              "    }\n",
              "\n",
              "    .dataframe thead th {\n",
              "        text-align: right;\n",
              "    }\n",
              "</style>\n",
              "<table border=\"1\" class=\"dataframe\">\n",
              "  <thead>\n",
              "    <tr style=\"text-align: right;\">\n",
              "      <th></th>\n",
              "      <th>id</th>\n",
              "      <th>title</th>\n",
              "      <th>tags</th>\n",
              "    </tr>\n",
              "  </thead>\n",
              "  <tbody>\n",
              "    <tr>\n",
              "      <th>0</th>\n",
              "      <td>862</td>\n",
              "      <td>Toy Story</td>\n",
              "      <td>[Animation, Comedy, Family, TomHanks, TimAllen...</td>\n",
              "    </tr>\n",
              "    <tr>\n",
              "      <th>1</th>\n",
              "      <td>8844</td>\n",
              "      <td>Jumanji</td>\n",
              "      <td>[Adventure, Fantasy, Family, RobinWilliams, Jo...</td>\n",
              "    </tr>\n",
              "    <tr>\n",
              "      <th>2</th>\n",
              "      <td>15602</td>\n",
              "      <td>Grumpier Old Men</td>\n",
              "      <td>[Romance, Comedy, WalterMatthau, JackLemmon, A...</td>\n",
              "    </tr>\n",
              "    <tr>\n",
              "      <th>3</th>\n",
              "      <td>31357</td>\n",
              "      <td>Waiting to Exhale</td>\n",
              "      <td>[Comedy, Drama, Romance, WhitneyHouston, Angel...</td>\n",
              "    </tr>\n",
              "    <tr>\n",
              "      <th>4</th>\n",
              "      <td>11862</td>\n",
              "      <td>Father of the Bride Part II</td>\n",
              "      <td>[Comedy, SteveMartin, DianeKeaton, MartinShort...</td>\n",
              "    </tr>\n",
              "    <tr>\n",
              "      <th>...</th>\n",
              "      <td>...</td>\n",
              "      <td>...</td>\n",
              "      <td>...</td>\n",
              "    </tr>\n",
              "    <tr>\n",
              "      <th>44116</th>\n",
              "      <td>439050</td>\n",
              "      <td>Subdue</td>\n",
              "      <td>[Drama, Family, LeilaHatami, KouroshTahami, El...</td>\n",
              "    </tr>\n",
              "    <tr>\n",
              "      <th>44117</th>\n",
              "      <td>111109</td>\n",
              "      <td>Century of Birthing</td>\n",
              "      <td>[Drama, AngelAquino, PerryDizon, HazelOrencio,...</td>\n",
              "    </tr>\n",
              "    <tr>\n",
              "      <th>44118</th>\n",
              "      <td>67758</td>\n",
              "      <td>Betrayal</td>\n",
              "      <td>[Action, Drama, Thriller, ErikaEleniak, AdamBa...</td>\n",
              "    </tr>\n",
              "    <tr>\n",
              "      <th>44119</th>\n",
              "      <td>227506</td>\n",
              "      <td>Satan Triumphant</td>\n",
              "      <td>[IwanMosschuchin, NathalieLissenko, PavelPavlo...</td>\n",
              "    </tr>\n",
              "    <tr>\n",
              "      <th>44120</th>\n",
              "      <td>461257</td>\n",
              "      <td>Queerama</td>\n",
              "      <td>[DaisyAsquith]</td>\n",
              "    </tr>\n",
              "  </tbody>\n",
              "</table>\n",
              "<p>44121 rows × 3 columns</p>\n",
              "</div>\n",
              "      <button class=\"colab-df-convert\" onclick=\"convertToInteractive('df-8b74e8b0-dad3-40f1-adcc-4a434c37be35')\"\n",
              "              title=\"Convert this dataframe to an interactive table.\"\n",
              "              style=\"display:none;\">\n",
              "        \n",
              "  <svg xmlns=\"http://www.w3.org/2000/svg\" height=\"24px\"viewBox=\"0 0 24 24\"\n",
              "       width=\"24px\">\n",
              "    <path d=\"M0 0h24v24H0V0z\" fill=\"none\"/>\n",
              "    <path d=\"M18.56 5.44l.94 2.06.94-2.06 2.06-.94-2.06-.94-.94-2.06-.94 2.06-2.06.94zm-11 1L8.5 8.5l.94-2.06 2.06-.94-2.06-.94L8.5 2.5l-.94 2.06-2.06.94zm10 10l.94 2.06.94-2.06 2.06-.94-2.06-.94-.94-2.06-.94 2.06-2.06.94z\"/><path d=\"M17.41 7.96l-1.37-1.37c-.4-.4-.92-.59-1.43-.59-.52 0-1.04.2-1.43.59L10.3 9.45l-7.72 7.72c-.78.78-.78 2.05 0 2.83L4 21.41c.39.39.9.59 1.41.59.51 0 1.02-.2 1.41-.59l7.78-7.78 2.81-2.81c.8-.78.8-2.07 0-2.86zM5.41 20L4 18.59l7.72-7.72 1.47 1.35L5.41 20z\"/>\n",
              "  </svg>\n",
              "      </button>\n",
              "      \n",
              "  <style>\n",
              "    .colab-df-container {\n",
              "      display:flex;\n",
              "      flex-wrap:wrap;\n",
              "      gap: 12px;\n",
              "    }\n",
              "\n",
              "    .colab-df-convert {\n",
              "      background-color: #E8F0FE;\n",
              "      border: none;\n",
              "      border-radius: 50%;\n",
              "      cursor: pointer;\n",
              "      display: none;\n",
              "      fill: #1967D2;\n",
              "      height: 32px;\n",
              "      padding: 0 0 0 0;\n",
              "      width: 32px;\n",
              "    }\n",
              "\n",
              "    .colab-df-convert:hover {\n",
              "      background-color: #E2EBFA;\n",
              "      box-shadow: 0px 1px 2px rgba(60, 64, 67, 0.3), 0px 1px 3px 1px rgba(60, 64, 67, 0.15);\n",
              "      fill: #174EA6;\n",
              "    }\n",
              "\n",
              "    [theme=dark] .colab-df-convert {\n",
              "      background-color: #3B4455;\n",
              "      fill: #D2E3FC;\n",
              "    }\n",
              "\n",
              "    [theme=dark] .colab-df-convert:hover {\n",
              "      background-color: #434B5C;\n",
              "      box-shadow: 0px 1px 3px 1px rgba(0, 0, 0, 0.15);\n",
              "      filter: drop-shadow(0px 1px 2px rgba(0, 0, 0, 0.3));\n",
              "      fill: #FFFFFF;\n",
              "    }\n",
              "  </style>\n",
              "\n",
              "      <script>\n",
              "        const buttonEl =\n",
              "          document.querySelector('#df-8b74e8b0-dad3-40f1-adcc-4a434c37be35 button.colab-df-convert');\n",
              "        buttonEl.style.display =\n",
              "          google.colab.kernel.accessAllowed ? 'block' : 'none';\n",
              "\n",
              "        async function convertToInteractive(key) {\n",
              "          const element = document.querySelector('#df-8b74e8b0-dad3-40f1-adcc-4a434c37be35');\n",
              "          const dataTable =\n",
              "            await google.colab.kernel.invokeFunction('convertToInteractive',\n",
              "                                                     [key], {});\n",
              "          if (!dataTable) return;\n",
              "\n",
              "          const docLinkHtml = 'Like what you see? Visit the ' +\n",
              "            '<a target=\"_blank\" href=https://colab.research.google.com/notebooks/data_table.ipynb>data table notebook</a>'\n",
              "            + ' to learn more about interactive tables.';\n",
              "          element.innerHTML = '';\n",
              "          dataTable['output_type'] = 'display_data';\n",
              "          await google.colab.output.renderOutput(dataTable, element);\n",
              "          const docLink = document.createElement('div');\n",
              "          docLink.innerHTML = docLinkHtml;\n",
              "          element.appendChild(docLink);\n",
              "        }\n",
              "      </script>\n",
              "    </div>\n",
              "  </div>\n",
              "  "
            ]
          },
          "metadata": {},
          "execution_count": 52
        }
      ],
      "source": [
        "newdf = merged_data[['id','title','tags']]\n",
        "newdf"
      ]
    },
    {
      "cell_type": "code",
      "execution_count": 53,
      "metadata": {
        "colab": {
          "base_uri": "https://localhost:8080/"
        },
        "id": "iKkv255de5ty",
        "outputId": "38268584-c97f-4a68-b52b-d4dcb0b4586b"
      },
      "outputs": [
        {
          "output_type": "stream",
          "name": "stderr",
          "text": [
            "<ipython-input-53-8f99a6b03e24>:1: SettingWithCopyWarning: \n",
            "A value is trying to be set on a copy of a slice from a DataFrame.\n",
            "Try using .loc[row_indexer,col_indexer] = value instead\n",
            "\n",
            "See the caveats in the documentation: https://pandas.pydata.org/pandas-docs/stable/user_guide/indexing.html#returning-a-view-versus-a-copy\n",
            "  newdf ['tags'] = newdf ['tags'].apply(lambda x:\" \".join(x))\n"
          ]
        }
      ],
      "source": [
        "newdf ['tags'] = newdf ['tags'].apply(lambda x:\" \".join(x))"
      ]
    },
    {
      "cell_type": "code",
      "execution_count": 54,
      "metadata": {
        "colab": {
          "base_uri": "https://localhost:8080/"
        },
        "id": "4PCnG5620mOV",
        "outputId": "89912fda-c208-4f07-8148-584644e03f5f"
      },
      "outputs": [
        {
          "output_type": "stream",
          "name": "stderr",
          "text": [
            "<ipython-input-54-92bd0824706c>:1: SettingWithCopyWarning: \n",
            "A value is trying to be set on a copy of a slice from a DataFrame.\n",
            "Try using .loc[row_indexer,col_indexer] = value instead\n",
            "\n",
            "See the caveats in the documentation: https://pandas.pydata.org/pandas-docs/stable/user_guide/indexing.html#returning-a-view-versus-a-copy\n",
            "  newdf ['tags'] = newdf ['tags'].apply(lambda x:x.lower())\n"
          ]
        }
      ],
      "source": [
        "newdf ['tags'] = newdf ['tags'].apply(lambda x:x.lower())"
      ]
    },
    {
      "cell_type": "code",
      "execution_count": 55,
      "metadata": {
        "id": "ogGucTFukOfL"
      },
      "outputs": [],
      "source": [
        "import nltk\n",
        "import numpy as np\n",
        "from nltk.stem.porter import PorterStemmer\n",
        "ps = PorterStemmer()\n"
      ]
    },
    {
      "cell_type": "code",
      "execution_count": 56,
      "metadata": {
        "id": "GAAIMM8MkdHj"
      },
      "outputs": [],
      "source": [
        "def stem(text):\n",
        "  y = []\n",
        "  for i in text.split():\n",
        "    y.append(ps.stem(i))\n",
        "  \n",
        "  return \" \".join(y)"
      ]
    },
    {
      "cell_type": "code",
      "execution_count": 57,
      "metadata": {
        "colab": {
          "base_uri": "https://localhost:8080/"
        },
        "id": "KwEtmnv5k9lf",
        "outputId": "ce7e3b78-6e56-4cc6-8b04-f30c8cf23303"
      },
      "outputs": [
        {
          "output_type": "stream",
          "name": "stderr",
          "text": [
            "<ipython-input-57-53d0dca3d307>:1: SettingWithCopyWarning: \n",
            "A value is trying to be set on a copy of a slice from a DataFrame.\n",
            "Try using .loc[row_indexer,col_indexer] = value instead\n",
            "\n",
            "See the caveats in the documentation: https://pandas.pydata.org/pandas-docs/stable/user_guide/indexing.html#returning-a-view-versus-a-copy\n",
            "  newdf['tags'] = newdf['tags'].apply(stem)\n"
          ]
        }
      ],
      "source": [
        "newdf['tags'] = newdf['tags'].apply(stem)"
      ]
    },
    {
      "cell_type": "code",
      "execution_count": 58,
      "metadata": {
        "id": "_wNdesRwlIr4"
      },
      "outputs": [],
      "source": [
        "\n",
        "from sklearn.feature_extraction.text import CountVectorizer\n",
        "cv = CountVectorizer(max_features=10000 ,stop_words='english',lowercase=True)"
      ]
    },
    {
      "cell_type": "code",
      "execution_count": 59,
      "metadata": {
        "colab": {
          "base_uri": "https://localhost:8080/"
        },
        "id": "HpY77u1Iliud",
        "outputId": "49f2eeb9-9bfb-4457-8e9b-3d0b62265635"
      },
      "outputs": [
        {
          "output_type": "execute_result",
          "data": {
            "text/plain": [
              "array([[0, 0, 0, ..., 0, 0, 0],\n",
              "       [0, 0, 0, ..., 0, 0, 0],\n",
              "       [0, 0, 0, ..., 0, 0, 0],\n",
              "       ...,\n",
              "       [0, 0, 0, ..., 0, 0, 0],\n",
              "       [0, 0, 0, ..., 0, 0, 0],\n",
              "       [0, 0, 0, ..., 0, 0, 0]])"
            ]
          },
          "metadata": {},
          "execution_count": 59
        }
      ],
      "source": [
        "vectors = cv.fit_transform(newdf['tags']).toarray()\n",
        "vectors"
      ]
    },
    {
      "cell_type": "code",
      "execution_count": 60,
      "metadata": {
        "colab": {
          "base_uri": "https://localhost:8080/"
        },
        "id": "e4m11qrflrh2",
        "outputId": "838b54a6-fb81-4caf-c288-fc449abbbadf"
      },
      "outputs": [
        {
          "output_type": "execute_result",
          "data": {
            "text/plain": [
              "array([0, 0, 0, ..., 0, 0, 0])"
            ]
          },
          "metadata": {},
          "execution_count": 60
        }
      ],
      "source": [
        "vectors[0]"
      ]
    },
    {
      "cell_type": "code",
      "source": [
        "vectors.shape"
      ],
      "metadata": {
        "colab": {
          "base_uri": "https://localhost:8080/"
        },
        "id": "2pEuS31_jBkL",
        "outputId": "7ee2293d-1320-462f-ccc4-410574df927d"
      },
      "execution_count": 61,
      "outputs": [
        {
          "output_type": "execute_result",
          "data": {
            "text/plain": [
              "(44121, 10000)"
            ]
          },
          "metadata": {},
          "execution_count": 61
        }
      ]
    },
    {
      "cell_type": "code",
      "source": [
        "newdf.shape"
      ],
      "metadata": {
        "colab": {
          "base_uri": "https://localhost:8080/"
        },
        "id": "79TNTcJwoHZD",
        "outputId": "e9259630-6c1a-423b-869a-b54cb00c5c00"
      },
      "execution_count": 62,
      "outputs": [
        {
          "output_type": "execute_result",
          "data": {
            "text/plain": [
              "(44121, 3)"
            ]
          },
          "metadata": {},
          "execution_count": 62
        }
      ]
    },
    {
      "cell_type": "code",
      "execution_count": 63,
      "metadata": {
        "id": "6v8Bugnc07-7"
      },
      "outputs": [],
      "source": [
        "# from sklearn.metrics.pairwise import cosine_similarity\n"
      ]
    },
    {
      "cell_type": "code",
      "source": [
        "from sklearn.metrics.pairwise import cosine_similarity\n",
        "\n",
        "# Change chunk_size to control resource consumption and speed\n",
        "# Higher chunk_size means more memory/RAM needed but also faster \n",
        "cosine_similarity_chunk=np.empty((0,vectors.shape[0]))\n",
        "chunk_size = 500\n",
        "matrix_len = vectors.shape[0] # Not sparse numpy.ndarray\n",
        "\n",
        "def similarity_cosine_by_chunk(start, end):\n",
        "    if end > matrix_len:\n",
        "        end = matrix_len\n",
        "    return cosine_similarity(X=vectors[start:end], Y=vectors) # scikit-learn function\n",
        "\n",
        "for chunk_start in range(0, matrix_len, chunk_size):\n",
        "    cosine_similarity_chunk = np.concatenate((cosine_similarity_chunk, similarity_cosine_by_chunk(chunk_start, chunk_start+chunk_size)))\n",
        "    # Handle cosine_similarity_chunk  ( Write it to file_timestamp and close the file )\n",
        "    # Do not open the same file again or you may end up with out of memory after few chunks "
      ],
      "metadata": {
        "id": "SGVVd5tckUPU"
      },
      "execution_count": null,
      "outputs": []
    },
    {
      "cell_type": "code",
      "source": [
        "cosine_similarity_chunk.shape"
      ],
      "metadata": {
        "id": "etRBgdn9K4xM"
      },
      "execution_count": null,
      "outputs": []
    },
    {
      "cell_type": "code",
      "source": [
        "# similarity = cosine_similarity(vectors[1:20000])"
      ],
      "metadata": {
        "id": "PvUCPy7FjE8y"
      },
      "execution_count": null,
      "outputs": []
    },
    {
      "cell_type": "code",
      "execution_count": null,
      "metadata": {
        "id": "rF7uj6Tl4tLs"
      },
      "outputs": [],
      "source": [
        "def recommend(movie):\n",
        "  movie_index = newdf[newdf['title'].apply(lambda x: x.lower()) == movie.lower()].index[0]\n",
        "  distances = cosine_similarity_chunk[movie_index]\n",
        "  movies_list = sorted(list(enumerate(distances)),reverse=True,key = lambda x:x[1])[0:10]\n",
        "  for i in movies_list:\n",
        "    print(newdf.iloc[i[0]].title)"
      ]
    },
    {
      "cell_type": "code",
      "execution_count": null,
      "metadata": {
        "id": "3GdlPMT97Kmd"
      },
      "outputs": [],
      "source": [
        "newdf['tags'][0]"
      ]
    },
    {
      "cell_type": "code",
      "source": [
        "# movie = \"thor\"\n",
        "# movie_index = newdf[newdf['title'].apply(lambda x: x.lower()) == movie.lower()].index[0]\n",
        "# print(movie_index)"
      ],
      "metadata": {
        "id": "azx71lzpyOtN"
      },
      "execution_count": null,
      "outputs": []
    },
    {
      "cell_type": "code",
      "source": [
        "cosine_similarity_chunk.shape"
      ],
      "metadata": {
        "id": "SK_O_VV7ys0h"
      },
      "execution_count": null,
      "outputs": []
    },
    {
      "cell_type": "code",
      "execution_count": null,
      "metadata": {
        "id": "gvV4JWFD7Nwu"
      },
      "outputs": [],
      "source": [
        "recommend(\"toy story\")"
      ]
    },
    {
      "cell_type": "code",
      "execution_count": null,
      "metadata": {
        "id": "rOAaiFHP9KvH"
      },
      "outputs": [],
      "source": []
    }
  ],
  "metadata": {
    "accelerator": "TPU",
    "colab": {
      "provenance": [],
      "mount_file_id": "1BLRgC4vLBmhQ0pdgQmX6ujr_Y0BypR34",
      "authorship_tag": "ABX9TyM4ysxXeRQGdN2eB6iCseE4",
      "include_colab_link": true
    },
    "gpuClass": "standard",
    "kernelspec": {
      "display_name": "Python 3",
      "name": "python3"
    },
    "language_info": {
      "name": "python"
    }
  },
  "nbformat": 4,
  "nbformat_minor": 0
}